{
 "cells": [
  {
   "cell_type": "markdown",
   "metadata": {
    "collapsed": true
   },
   "source": [
    "# Descriptive Stats of Personal CS:GO Performance\n",
    "We look at my overall stats in Deathmatch (DM) and Matchmaking (MM) -- games played, win/loss ratios, k/d ratios, map performance, and performance over time."
   ]
  },
  {
   "cell_type": "code",
   "execution_count": 11,
   "metadata": {},
   "outputs": [],
   "source": [
    "# Import packages and define constants\n",
    "import pandas as pd\n",
    "import numpy as np\n",
    "import matplotlib.pyplot as plt\n",
    "import datetime\n",
    "\n",
    "#STATS_FILE = \"C:\\\\Users\\\\Desktop\\\\Programming\\\\csgo_stats\\\\data\\\\stats_20181219.csv\"\n",
    "STATS_FILE = '../data/stats_20181219.csv'"
   ]
  },
  {
   "cell_type": "code",
   "execution_count": 12,
   "metadata": {},
   "outputs": [
    {
     "name": "stdout",
     "output_type": "stream",
     "text": [
      "Num rows: 68.  Num cols: 9\n"
     ]
    },
    {
     "data": {
      "text/html": [
       "<div>\n",
       "<style scoped>\n",
       "    .dataframe tbody tr th:only-of-type {\n",
       "        vertical-align: middle;\n",
       "    }\n",
       "\n",
       "    .dataframe tbody tr th {\n",
       "        vertical-align: top;\n",
       "    }\n",
       "\n",
       "    .dataframe thead th {\n",
       "        text-align: right;\n",
       "    }\n",
       "</style>\n",
       "<table border=\"1\" class=\"dataframe\">\n",
       "  <thead>\n",
       "    <tr style=\"text-align: right;\">\n",
       "      <th></th>\n",
       "      <th>Date</th>\n",
       "      <th>Map</th>\n",
       "      <th>Game Type</th>\n",
       "      <th>Kills</th>\n",
       "      <th>Assists</th>\n",
       "      <th>Deaths</th>\n",
       "      <th>K-D</th>\n",
       "      <th>Full/Legit Match</th>\n",
       "      <th>Win/Loss</th>\n",
       "    </tr>\n",
       "  </thead>\n",
       "  <tbody>\n",
       "    <tr>\n",
       "      <th>0</th>\n",
       "      <td>2018-09-15</td>\n",
       "      <td>Inferno</td>\n",
       "      <td>DM</td>\n",
       "      <td>27</td>\n",
       "      <td>0</td>\n",
       "      <td>24</td>\n",
       "      <td>3.0</td>\n",
       "      <td>Y</td>\n",
       "      <td>NaN</td>\n",
       "    </tr>\n",
       "    <tr>\n",
       "      <th>1</th>\n",
       "      <td>2018-09-15</td>\n",
       "      <td>Mirage</td>\n",
       "      <td>DM</td>\n",
       "      <td>16</td>\n",
       "      <td>6</td>\n",
       "      <td>21</td>\n",
       "      <td>-5.0</td>\n",
       "      <td>Y</td>\n",
       "      <td>NaN</td>\n",
       "    </tr>\n",
       "    <tr>\n",
       "      <th>2</th>\n",
       "      <td>2018-09-15</td>\n",
       "      <td>Cache</td>\n",
       "      <td>DM</td>\n",
       "      <td>28</td>\n",
       "      <td>3</td>\n",
       "      <td>22</td>\n",
       "      <td>6.0</td>\n",
       "      <td>Y</td>\n",
       "      <td>NaN</td>\n",
       "    </tr>\n",
       "    <tr>\n",
       "      <th>3</th>\n",
       "      <td>2018-09-15</td>\n",
       "      <td>Mirage</td>\n",
       "      <td>DM</td>\n",
       "      <td>24</td>\n",
       "      <td>0</td>\n",
       "      <td>21</td>\n",
       "      <td>3.0</td>\n",
       "      <td>Y</td>\n",
       "      <td>NaN</td>\n",
       "    </tr>\n",
       "    <tr>\n",
       "      <th>4</th>\n",
       "      <td>2018-09-15</td>\n",
       "      <td>Cache</td>\n",
       "      <td>DM</td>\n",
       "      <td>25</td>\n",
       "      <td>1</td>\n",
       "      <td>20</td>\n",
       "      <td>5.0</td>\n",
       "      <td>Y</td>\n",
       "      <td>NaN</td>\n",
       "    </tr>\n",
       "  </tbody>\n",
       "</table>\n",
       "</div>"
      ],
      "text/plain": [
       "        Date      Map Game Type  Kills  Assists  Deaths  K-D Full/Legit Match  \\\n",
       "0 2018-09-15  Inferno        DM     27        0      24  3.0                Y   \n",
       "1 2018-09-15   Mirage        DM     16        6      21 -5.0                Y   \n",
       "2 2018-09-15    Cache        DM     28        3      22  6.0                Y   \n",
       "3 2018-09-15   Mirage        DM     24        0      21  3.0                Y   \n",
       "4 2018-09-15    Cache        DM     25        1      20  5.0                Y   \n",
       "\n",
       "  Win/Loss  \n",
       "0      NaN  \n",
       "1      NaN  \n",
       "2      NaN  \n",
       "3      NaN  \n",
       "4      NaN  "
      ]
     },
     "execution_count": 12,
     "metadata": {},
     "output_type": "execute_result"
    }
   ],
   "source": [
    "# Read in file\n",
    "data = pd.read_csv(STATS_FILE)\n",
    "data['Date'] = pd.to_datetime(data['Date'], format='%m/%d/%y')\n",
    "print('Num rows: ' + str(data.shape[0]) + '.  Num cols: ' + str(data.shape[1]))\n",
    "data.head()"
   ]
  },
  {
   "cell_type": "markdown",
   "metadata": {},
   "source": [
    "# Overall Summary"
   ]
  },
  {
   "cell_type": "code",
   "execution_count": 13,
   "metadata": {},
   "outputs": [
    {
     "data": {
      "text/html": [
       "<div>\n",
       "<style scoped>\n",
       "    .dataframe tbody tr th:only-of-type {\n",
       "        vertical-align: middle;\n",
       "    }\n",
       "\n",
       "    .dataframe tbody tr th {\n",
       "        vertical-align: top;\n",
       "    }\n",
       "\n",
       "    .dataframe thead th {\n",
       "        text-align: right;\n",
       "    }\n",
       "</style>\n",
       "<table border=\"1\" class=\"dataframe\">\n",
       "  <thead>\n",
       "    <tr style=\"text-align: right;\">\n",
       "      <th></th>\n",
       "      <th>Value</th>\n",
       "    </tr>\n",
       "    <tr>\n",
       "      <th>Description</th>\n",
       "      <th></th>\n",
       "    </tr>\n",
       "  </thead>\n",
       "  <tbody>\n",
       "    <tr>\n",
       "      <th>Total Games Played</th>\n",
       "      <td>68</td>\n",
       "    </tr>\n",
       "    <tr>\n",
       "      <th>Days Since First Game Played</th>\n",
       "      <td>95</td>\n",
       "    </tr>\n",
       "    <tr>\n",
       "      <th>Avg games/day</th>\n",
       "      <td>0.715789</td>\n",
       "    </tr>\n",
       "    <tr>\n",
       "      <th>Total DM Games</th>\n",
       "      <td>46</td>\n",
       "    </tr>\n",
       "    <tr>\n",
       "      <th>Total MM Games</th>\n",
       "      <td>17</td>\n",
       "    </tr>\n",
       "    <tr>\n",
       "      <th>Total MM Wins</th>\n",
       "      <td>4</td>\n",
       "    </tr>\n",
       "    <tr>\n",
       "      <th>Total MM Losses</th>\n",
       "      <td>11</td>\n",
       "    </tr>\n",
       "  </tbody>\n",
       "</table>\n",
       "</div>"
      ],
      "text/plain": [
       "                                 Value\n",
       "Description                           \n",
       "Total Games Played                  68\n",
       "Days Since First Game Played        95\n",
       "Avg games/day                 0.715789\n",
       "Total DM Games                      46\n",
       "Total MM Games                      17\n",
       "Total MM Wins                        4\n",
       "Total MM Losses                     11"
      ]
     },
     "metadata": {},
     "output_type": "display_data"
    }
   ],
   "source": [
    "def add_rows(df, rows):\n",
    "    tmp_df = pd.DataFrame(columns=df.columns, index=range(len(rows)))\n",
    "    i = 0\n",
    "    for row in rows:\n",
    "        tmp_df.iloc[i,:] = row\n",
    "        i = i + 1\n",
    "    return pd.concat([df, tmp_df], axis=0, ignore_index=True)\n",
    "\n",
    "current_date = datetime.datetime.now()\n",
    "first_date = data['Date'][0]\n",
    "days_since_first_game = (current_date - first_date).days\n",
    "tot_dm_games = (data['Game Type'] == 'DM').sum()\n",
    "tot_mm_games = (data['Game Type'] == 'MM').sum()\n",
    "tot_mm_w = (data['Win/Loss'] == 'W').sum()\n",
    "tot_mm_l = (data['Win/Loss'] == 'L').sum()\n",
    "\n",
    "overall_stats = [\n",
    "    ['Total Games Played', data.shape[0]],\n",
    "    ['Days Since First Game Played', days_since_first_game],\n",
    "    ['Avg games/day', data.shape[0] / days_since_first_game],\n",
    "    ['Total DM Games', tot_dm_games],\n",
    "    ['Total MM Games', tot_mm_games],\n",
    "    ['Total MM Wins', tot_mm_w],\n",
    "    ['Total MM Losses', tot_mm_l],\n",
    "]\n",
    "descriptive_df = pd.DataFrame({'Description': [], 'Value': []})[['Description', 'Value']]\n",
    "descriptive_df = add_rows(descriptive_df, overall_stats)\n",
    "descriptive_df.index = descriptive_df.Description\n",
    "descriptive_df.drop(['Description'], axis=1, inplace=True)\n",
    "display(descriptive_df)"
   ]
  },
  {
   "cell_type": "markdown",
   "metadata": {},
   "source": [
    "# K/D Statistics"
   ]
  },
  {
   "cell_type": "code",
   "execution_count": 20,
   "metadata": {},
   "outputs": [
    {
     "data": {
      "text/html": [
       "<div>\n",
       "<style scoped>\n",
       "    .dataframe tbody tr th:only-of-type {\n",
       "        vertical-align: middle;\n",
       "    }\n",
       "\n",
       "    .dataframe tbody tr th {\n",
       "        vertical-align: top;\n",
       "    }\n",
       "\n",
       "    .dataframe thead th {\n",
       "        text-align: right;\n",
       "    }\n",
       "</style>\n",
       "<table border=\"1\" class=\"dataframe\">\n",
       "  <thead>\n",
       "    <tr style=\"text-align: right;\">\n",
       "      <th></th>\n",
       "      <th>Value</th>\n",
       "    </tr>\n",
       "    <tr>\n",
       "      <th>Description</th>\n",
       "      <th></th>\n",
       "    </tr>\n",
       "  </thead>\n",
       "  <tbody>\n",
       "    <tr>\n",
       "      <th>Total DM kills</th>\n",
       "      <td>1089</td>\n",
       "    </tr>\n",
       "    <tr>\n",
       "      <th>Avg DM kills per game</th>\n",
       "      <td>23.6739</td>\n",
       "    </tr>\n",
       "    <tr>\n",
       "      <th>Total DM deaths</th>\n",
       "      <td>794</td>\n",
       "    </tr>\n",
       "    <tr>\n",
       "      <th>Avg DM deaths per game</th>\n",
       "      <td>17.2609</td>\n",
       "    </tr>\n",
       "    <tr>\n",
       "      <th>DM K/D Ratio</th>\n",
       "      <td>1.37154</td>\n",
       "    </tr>\n",
       "    <tr>\n",
       "      <th>Total MM kills</th>\n",
       "      <td>245</td>\n",
       "    </tr>\n",
       "    <tr>\n",
       "      <th>Avg MM kills per game</th>\n",
       "      <td>14.4118</td>\n",
       "    </tr>\n",
       "    <tr>\n",
       "      <th>Total MM deaths</th>\n",
       "      <td>322</td>\n",
       "    </tr>\n",
       "    <tr>\n",
       "      <th>Avg MM deaths per game</th>\n",
       "      <td>18.9412</td>\n",
       "    </tr>\n",
       "    <tr>\n",
       "      <th>MM K/D Ratio</th>\n",
       "      <td>0.308564</td>\n",
       "    </tr>\n",
       "    <tr>\n",
       "      <th>Avg MM kills per win</th>\n",
       "      <td>13.75</td>\n",
       "    </tr>\n",
       "    <tr>\n",
       "      <th>Avg MM kills per loss</th>\n",
       "      <td>15.2727</td>\n",
       "    </tr>\n",
       "    <tr>\n",
       "      <th>Avg MM deaths per win</th>\n",
       "      <td>13.75</td>\n",
       "    </tr>\n",
       "    <tr>\n",
       "      <th>Avg MM deaths per loss</th>\n",
       "      <td>20.4545</td>\n",
       "    </tr>\n",
       "    <tr>\n",
       "      <th>Avg K/D per win</th>\n",
       "      <td>1</td>\n",
       "    </tr>\n",
       "    <tr>\n",
       "      <th>Avg K/D per loss</th>\n",
       "      <td>0.746667</td>\n",
       "    </tr>\n",
       "  </tbody>\n",
       "</table>\n",
       "</div>"
      ],
      "text/plain": [
       "                           Value\n",
       "Description                     \n",
       "Total DM kills              1089\n",
       "Avg DM kills per game    23.6739\n",
       "Total DM deaths              794\n",
       "Avg DM deaths per game   17.2609\n",
       "DM K/D Ratio             1.37154\n",
       "Total MM kills               245\n",
       "Avg MM kills per game    14.4118\n",
       "Total MM deaths              322\n",
       "Avg MM deaths per game   18.9412\n",
       "MM K/D Ratio            0.308564\n",
       "Avg MM kills per win       13.75\n",
       "Avg MM kills per loss    15.2727\n",
       "Avg MM deaths per win      13.75\n",
       "Avg MM deaths per loss   20.4545\n",
       "Avg K/D per win                1\n",
       "Avg K/D per loss        0.746667"
      ]
     },
     "metadata": {},
     "output_type": "display_data"
    }
   ],
   "source": [
    "kd_stats = [\n",
    "    ['Total DM kills', data['Kills'][data['Game Type'] == 'DM'].sum()],\n",
    "    ['Avg DM kills per game', data['Kills'][data['Game Type'] == 'DM'].sum() / tot_dm_games ],\n",
    "    ['Total DM deaths', data['Deaths'][data['Game Type'] == 'DM'].sum()],\n",
    "    ['Avg DM deaths per game', data['Deaths'][data['Game Type'] == 'DM'].sum() / tot_dm_games ],\n",
    "    ['DM K/D Ratio', data['Kills'][data['Game Type'] == 'DM'].sum() / data['Deaths'][data['Game Type'] == 'DM'].sum()],\n",
    "    ['Total MM kills', data['Kills'][data['Game Type'] == 'MM'].sum()],\n",
    "    ['Avg MM kills per game', data['Kills'][data['Game Type'] == 'MM'].sum() / tot_mm_games ],\n",
    "    ['Total MM deaths', data['Deaths'][data['Game Type'] == 'MM'].sum()],\n",
    "    ['Avg MM deaths per game', data['Deaths'][data['Game Type'] == 'MM'].sum() / tot_mm_games ],\n",
    "    ['MM K/D Ratio', data['Kills'][data['Game Type'] == 'MM'].sum() / data['Deaths'][data['Game Type'] == 'DM'].sum()],\n",
    "    ['Avg MM kills per win', data['Kills'][data['Win/Loss'] == 'W'].sum() / tot_mm_w],\n",
    "    ['Avg MM kills per loss', data['Kills'][data['Win/Loss'] == 'L'].sum() / tot_mm_l],\n",
    "    ['Avg MM deaths per win', data['Deaths'][data['Win/Loss'] == 'W'].sum() / tot_mm_w],\n",
    "    ['Avg MM deaths per loss', data['Deaths'][data['Win/Loss'] == 'L'].sum() / tot_mm_l],\n",
    "    ['Avg K/D per win', data['Kills'][data['Win/Loss'] == 'W'].sum() / data['Deaths'][data['Win/Loss'] == 'W'].sum()],\n",
    "    ['Avg K/D per loss', data['Kills'][data['Win/Loss'] == 'L'].sum() / data['Deaths'][data['Win/Loss'] == 'L'].sum()]\n",
    "]\n",
    "kd_df = pd.DataFrame({'Description': [], 'Value': []})[['Description', 'Value']]\n",
    "kd_df = add_rows(kd_df, kd_stats)\n",
    "kd_df.index = kd_df.Description\n",
    "kd_df.drop(['Description'], axis=1, inplace=True)\n",
    "display(kd_df)"
   ]
  },
  {
   "cell_type": "markdown",
   "metadata": {},
   "source": [
    "# Stats over time"
   ]
  },
  {
   "cell_type": "code",
   "execution_count": 32,
   "metadata": {
    "scrolled": true
   },
   "outputs": [
    {
     "data": {
      "image/png": "[encoded data removed]",
      "text/plain": [
       "<matplotlib.figure.Figure at 0xcd9023940>"
      ]
     },
     "metadata": {},
     "output_type": "display_data"
    }
   ],
   "source": [
    "data['kd_ratio'] = data['Kills'] / data['Deaths']\n",
    "dm_cum_kd_ratio = np.cumsum(data['Kills'][data['Game Type'] == 'DM']) / np.cumsum(data['Deaths'][data['Game Type'] == 'DM'])\n",
    "plt.plot(data[data['Game Type'] == 'DM'].index, dm_cum_kd_ratio)\n",
    "plt.title('DM K/D Ratio over time')\n",
    "plt.show()"
   ]
  },
  {
   "cell_type": "code",
   "execution_count": 33,
   "metadata": {},
   "outputs": [
    {
     "data": {
      "image/png": "[encoded data removed]",
      "text/plain": [
       "<matplotlib.figure.Figure at 0xcd908f9e8>"
      ]
     },
     "metadata": {},
     "output_type": "display_data"
    }
   ],
   "source": [
    "mm_cum_kd_ratio = np.cumsum(data['Kills'][data['Game Type'] == 'MM']) / np.cumsum(data['Deaths'][data['Game Type'] == 'MM'])\n",
    "plt.plot(data[data['Game Type'] == 'MM'].index, mm_cum_kd_ratio)\n",
    "plt.title('MM K/D Ratio over time')\n",
    "plt.show()"
   ]
  },
  {
   "cell_type": "code",
   "execution_count": 24,
   "metadata": {},
   "outputs": [
    {
     "data": {
      "image/png": "[encoded data removed]",
      "text/plain": [
       "<matplotlib.figure.Figure at 0xcd7ca8358>"
      ]
     },
     "metadata": {},
     "output_type": "display_data"
    }
   ],
   "source": [
    "plt.scatter(data.index, data['Kills'])\n",
    "plt.show()"
   ]
  },
  {
   "cell_type": "code",
   "execution_count": null,
   "metadata": {},
   "outputs": [],
   "source": []
  }
 ],
 "metadata": {
  "kernelspec": {
   "display_name": "Python 3",
   "language": "python",
   "name": "python3"
  },
  "language_info": {
   "codemirror_mode": {
    "name": "ipython",
    "version": 3
   },
   "file_extension": ".py",
   "mimetype": "text/x-python",
   "name": "python",
   "nbconvert_exporter": "python",
   "pygments_lexer": "ipython3",
   "version": "3.6.4"
  }
 },
 "nbformat": 4,
 "nbformat_minor": 1
}
